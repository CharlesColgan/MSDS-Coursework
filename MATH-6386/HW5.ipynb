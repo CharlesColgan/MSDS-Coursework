{
 "cells": [
  {
   "cell_type": "code",
   "execution_count": 17,
   "id": "566acaf5",
   "metadata": {
    "scrolled": true
   },
   "outputs": [
    {
     "data": {
      "application/vnd.jupyter.widget-view+json": {
       "model_id": "201519e285a14d4c83684724e9da6411",
       "version_major": 2,
       "version_minor": 0
      },
      "text/plain": [
       "VBox()"
      ]
     },
     "metadata": {},
     "output_type": "display_data"
    },
    {
     "data": {
      "application/vnd.jupyter.widget-view+json": {
       "model_id": "",
       "version_major": 2,
       "version_minor": 0
      },
      "text/plain": [
       "FloatProgress(value=0.0, bar_style='info', description='Progress:', layout=Layout(height='25px', width='50%'),…"
      ]
     },
     "metadata": {},
     "output_type": "display_data"
    },
    {
     "name": "stderr",
     "output_type": "stream",
     "text": [
      "An error was encountered:\n",
      "No module named 'matplotlib'\n",
      "Traceback (most recent call last):\n",
      "ModuleNotFoundError: No module named 'matplotlib'\n",
      "\n"
     ]
    }
   ],
   "source": [
    "from pyspark.sql import SparkSession\n",
    "import pandas as pd\n",
    "from pyspark.ml.feature import OneHotEncoderEstimator, StringIndexer, VectorAssembler\n",
    "from pyspark.ml import Pipeline\n",
    "from pyspark.ml.classification import LogisticRegression\n",
    "import numpy as np\n",
    "from pyspark.ml.evaluation import BinaryClassificationEvaluator\n",
    "from pyspark.ml.classification import DecisionTreeClassifier\n",
    "from pyspark.ml.classification import RandomForestClassifier\n",
    "from pyspark.ml.classification import GBTClassifier\n",
    "from pandas.plotting import scatter_matrix\n",
    "import matplotlib.pyplot as plt\n",
    "import numpy as np"
   ]
  },
  {
   "cell_type": "code",
   "execution_count": 18,
   "id": "2576af74",
   "metadata": {},
   "outputs": [
    {
     "data": {
      "application/vnd.jupyter.widget-view+json": {
       "model_id": "93a39cfea836430d8d68585b95367ccd",
       "version_major": 2,
       "version_minor": 0
      },
      "text/plain": [
       "VBox()"
      ]
     },
     "metadata": {},
     "output_type": "display_data"
    },
    {
     "data": {
      "application/vnd.jupyter.widget-view+json": {
       "model_id": "",
       "version_major": 2,
       "version_minor": 0
      },
      "text/plain": [
       "FloatProgress(value=0.0, bar_style='info', description='Progress:', layout=Layout(height='25px', width='50%'),…"
      ]
     },
     "metadata": {},
     "output_type": "display_data"
    },
    {
     "name": "stdout",
     "output_type": "stream",
     "text": [
      "root\n",
      " |-- _c0: integer (nullable = true)\n",
      " |-- Unnamed: 0: integer (nullable = true)\n",
      " |-- event_time: string (nullable = true)\n",
      " |-- event_type: string (nullable = true)\n",
      " |-- product_id: integer (nullable = true)\n",
      " |-- category_id: long (nullable = true)\n",
      " |-- category_code: string (nullable = true)\n",
      " |-- brand: string (nullable = true)\n",
      " |-- price: double (nullable = true)\n",
      " |-- user_id: integer (nullable = true)\n",
      " |-- user_session: string (nullable = true)"
     ]
    }
   ],
   "source": [
    "spark = SparkSession.builder.appName('ml-bank').getOrCreate()\n",
    "\n",
    "input_bucket = \"s3://cdcolganbucket\"\n",
    "\n",
    "input_path = '/eCommerce.csv'\n",
    "\n",
    "df = spark.read.csv(input_bucket + input_path, header = True, inferSchema = True)\n",
    "\n",
    "#df = spark.read.csv('bank.csv', header = True, inferSchema = True)\n",
    "\n",
    "df.printSchema()"
   ]
  },
  {
   "cell_type": "code",
   "execution_count": 19,
   "id": "ca55e97b",
   "metadata": {
    "scrolled": false
   },
   "outputs": [
    {
     "data": {
      "application/vnd.jupyter.widget-view+json": {
       "model_id": "d751f9e9d5734156bfe73dc2754969a7",
       "version_major": 2,
       "version_minor": 0
      },
      "text/plain": [
       "VBox()"
      ]
     },
     "metadata": {},
     "output_type": "display_data"
    },
    {
     "data": {
      "application/vnd.jupyter.widget-view+json": {
       "model_id": "",
       "version_major": 2,
       "version_minor": 0
      },
      "text/plain": [
       "FloatProgress(value=0.0, bar_style='info', description='Progress:', layout=Layout(height='25px', width='50%'),…"
      ]
     },
     "metadata": {},
     "output_type": "display_data"
    },
    {
     "name": "stdout",
     "output_type": "stream",
     "text": [
      "                                                  0  ...                                     4\n",
      "_c0                                        20304271  ...                               1115695\n",
      "Unnamed: 0                                 32411428  ...                               1783756\n",
      "event_time                  2019-10-24 08:20:17 UTC  ...               2019-10-02 10:44:02 UTC\n",
      "event_type                                     view  ...                                  view\n",
      "product_id                                  1004785  ...                               5100737\n",
      "category_id                     2053013555631882655  ...                   2053013553341792533\n",
      "category_code                electronics.smartphone  ...                    electronics.clocks\n",
      "brand                                        huawei  ...                               samsung\n",
      "price                                        270.42  ...                                150.95\n",
      "user_id                                   558935919  ...                             518624540\n",
      "user_session   a815a29f-4cfb-4c0a-9922-3b2c4d6febb4  ...  839e741f-e377-4431-9138-5cd52a100a15\n",
      "\n",
      "[11 rows x 5 columns]"
     ]
    }
   ],
   "source": [
    "pd.DataFrame(df.take(5), columns=df.columns).transpose()"
   ]
  },
  {
   "cell_type": "code",
   "execution_count": 20,
   "id": "3e1e6150",
   "metadata": {},
   "outputs": [
    {
     "data": {
      "application/vnd.jupyter.widget-view+json": {
       "model_id": "d0813f102d47424db486e49ddf972f48",
       "version_major": 2,
       "version_minor": 0
      },
      "text/plain": [
       "VBox()"
      ]
     },
     "metadata": {},
     "output_type": "display_data"
    },
    {
     "data": {
      "application/vnd.jupyter.widget-view+json": {
       "model_id": "",
       "version_major": 2,
       "version_minor": 0
      },
      "text/plain": [
       "FloatProgress(value=0.0, bar_style='info', description='Progress:', layout=Layout(height='25px', width='50%'),…"
      ]
     },
     "metadata": {},
     "output_type": "display_data"
    },
    {
     "name": "stdout",
     "output_type": "stream",
     "text": [
      "  event_type    count\n",
      "0       cart   266914\n",
      "1       view  8316245\n",
      "2   purchase   181846"
     ]
    }
   ],
   "source": [
    "df.groupby('event_type').count().toPandas()"
   ]
  },
  {
   "cell_type": "code",
   "execution_count": 21,
   "id": "eabf0c4d",
   "metadata": {},
   "outputs": [
    {
     "data": {
      "application/vnd.jupyter.widget-view+json": {
       "model_id": "c5ac12009b584db0b104b9e1e70918be",
       "version_major": 2,
       "version_minor": 0
      },
      "text/plain": [
       "VBox()"
      ]
     },
     "metadata": {},
     "output_type": "display_data"
    },
    {
     "data": {
      "application/vnd.jupyter.widget-view+json": {
       "model_id": "",
       "version_major": 2,
       "version_minor": 0
      },
      "text/plain": [
       "FloatProgress(value=0.0, bar_style='info', description='Progress:', layout=Layout(height='25px', width='50%'),…"
      ]
     },
     "metadata": {},
     "output_type": "display_data"
    }
   ],
   "source": [
    "#pd.DataFrame(df[df[\"event_type\"] == \"cart\"].take(5), columns=df[df[\"event_type\"] == \"cart\"].columns).transpose()"
   ]
  },
  {
   "cell_type": "code",
   "execution_count": 22,
   "id": "9560093c",
   "metadata": {},
   "outputs": [
    {
     "data": {
      "application/vnd.jupyter.widget-view+json": {
       "model_id": "9ae3c2e56a2947908b0b77c5ec0c4c99",
       "version_major": 2,
       "version_minor": 0
      },
      "text/plain": [
       "VBox()"
      ]
     },
     "metadata": {},
     "output_type": "display_data"
    },
    {
     "data": {
      "application/vnd.jupyter.widget-view+json": {
       "model_id": "",
       "version_major": 2,
       "version_minor": 0
      },
      "text/plain": [
       "FloatProgress(value=0.0, bar_style='info', description='Progress:', layout=Layout(height='25px', width='50%'),…"
      ]
     },
     "metadata": {},
     "output_type": "display_data"
    },
    {
     "name": "stdout",
     "output_type": "stream",
     "text": [
      "                  0                     1  ...          3          4\n",
      "summary       count                  mean  ...        min        max\n",
      "_c0         8765005  1.3283255473634984E7  ...          0   26560615\n",
      "Unnamed: 0  8765005   2.127074151289623E7  ...          1   42448757\n",
      "product_id  8765005     5366080.760621015  ...    1000978   60500010\n",
      "user_id     8765005   5.339297623416629E8  ...  195082191  566280676\n",
      "\n",
      "[5 rows x 5 columns]"
     ]
    }
   ],
   "source": [
    "numeric_features = [t[0] for t in df.dtypes if t[1] == 'int']\n",
    "df.select(numeric_features).describe().toPandas().transpose()"
   ]
  },
  {
   "cell_type": "code",
   "execution_count": 23,
   "id": "f5ba90a2",
   "metadata": {},
   "outputs": [
    {
     "data": {
      "application/vnd.jupyter.widget-view+json": {
       "model_id": "b2a3acdcc87348cc8232adac075cc5e9",
       "version_major": 2,
       "version_minor": 0
      },
      "text/plain": [
       "VBox()"
      ]
     },
     "metadata": {},
     "output_type": "display_data"
    },
    {
     "data": {
      "application/vnd.jupyter.widget-view+json": {
       "model_id": "",
       "version_major": 2,
       "version_minor": 0
      },
      "text/plain": [
       "FloatProgress(value=0.0, bar_style='info', description='Progress:', layout=Layout(height='25px', width='50%'),…"
      ]
     },
     "metadata": {},
     "output_type": "display_data"
    },
    {
     "name": "stderr",
     "output_type": "stream",
     "text": [
      "An error was encountered:\n",
      "name 'plt' is not defined\n",
      "Traceback (most recent call last):\n",
      "NameError: name 'plt' is not defined\n",
      "\n"
     ]
    }
   ],
   "source": [
    "numeric_data = df.select(numeric_features).toPandas()\n",
    "plt.clf()\n",
    "axs = scatter_matrix(numeric_data, figsize=(7, 7));\n",
    "# Rotate axis labels and remove axis ticks\n",
    "n = len(numeric_data.columns)\n",
    "for i in range(n):\n",
    "    v = axs[i, 0]\n",
    "    v.yaxis.label.set_rotation(0)\n",
    "    v.yaxis.label.set_ha('right')\n",
    "    v.set_yticks(())\n",
    "    h = axs[n-1, i]\n",
    "    h.xaxis.label.set_rotation(90)\n",
    "    h.set_xticks(())\n",
    "%matplot plt"
   ]
  },
  {
   "cell_type": "code",
   "execution_count": 24,
   "id": "654e89e4",
   "metadata": {
    "scrolled": true
   },
   "outputs": [
    {
     "data": {
      "application/vnd.jupyter.widget-view+json": {
       "model_id": "22dfad9285644a2d9f5efaba4c124245",
       "version_major": 2,
       "version_minor": 0
      },
      "text/plain": [
       "VBox()"
      ]
     },
     "metadata": {},
     "output_type": "display_data"
    },
    {
     "data": {
      "application/vnd.jupyter.widget-view+json": {
       "model_id": "",
       "version_major": 2,
       "version_minor": 0
      },
      "text/plain": [
       "FloatProgress(value=0.0, bar_style='info', description='Progress:', layout=Layout(height='25px', width='50%'),…"
      ]
     },
     "metadata": {},
     "output_type": "display_data"
    },
    {
     "name": "stdout",
     "output_type": "stream",
     "text": [
      "root\n",
      " |-- category_code: string (nullable = true)\n",
      " |-- brand: string (nullable = true)\n",
      " |-- price: double (nullable = true)\n",
      " |-- event_type: string (nullable = true)"
     ]
    }
   ],
   "source": [
    "df = df.select(\"category_code\", \"brand\", \"price\", \"event_type\")\n",
    "\n",
    "cols = df.columns\n",
    "\n",
    "df.printSchema()"
   ]
  },
  {
   "cell_type": "code",
   "execution_count": 25,
   "id": "1c339219",
   "metadata": {},
   "outputs": [
    {
     "data": {
      "application/vnd.jupyter.widget-view+json": {
       "model_id": "8037d64894994734aa880fd9823a7a02",
       "version_major": 2,
       "version_minor": 0
      },
      "text/plain": [
       "VBox()"
      ]
     },
     "metadata": {},
     "output_type": "display_data"
    },
    {
     "data": {
      "application/vnd.jupyter.widget-view+json": {
       "model_id": "",
       "version_major": 2,
       "version_minor": 0
      },
      "text/plain": [
       "FloatProgress(value=0.0, bar_style='info', description='Progress:', layout=Layout(height='25px', width='50%'),…"
      ]
     },
     "metadata": {},
     "output_type": "display_data"
    }
   ],
   "source": [
    "categoricalColumns = [\"category_code\", \"brand\", \"price\"]\n",
    "\n",
    "stages = []\n",
    "\n",
    "for categoricalCol in categoricalColumns:\n",
    "    \n",
    "    stringIndexer = StringIndexer(inputCol = categoricalCol, outputCol = categoricalCol + 'Index')\n",
    "    \n",
    "    encoder = OneHotEncoderEstimator(inputCols=[stringIndexer.getOutputCol()], outputCols=[categoricalCol + \"classVec\"])\n",
    "    \n",
    "    stages += [stringIndexer, encoder]\n",
    "\n",
    "label_stringIdx = StringIndexer(inputCol = 'event_type', outputCol = 'label')\n",
    "\n",
    "stages += [label_stringIdx]\n",
    "\n",
    "numericCols = []\n",
    "\n",
    "assemblerInputs = [c + \"classVec\" for c in categoricalColumns] + numericCols\n",
    "\n",
    "assembler = VectorAssembler(inputCols=assemblerInputs, outputCol=\"features\")\n",
    "\n",
    "stages += [assembler]"
   ]
  },
  {
   "cell_type": "code",
   "execution_count": 26,
   "id": "befa5064",
   "metadata": {},
   "outputs": [
    {
     "data": {
      "application/vnd.jupyter.widget-view+json": {
       "model_id": "e5625833a7e54add96ef3d4990ced243",
       "version_major": 2,
       "version_minor": 0
      },
      "text/plain": [
       "VBox()"
      ]
     },
     "metadata": {},
     "output_type": "display_data"
    },
    {
     "data": {
      "application/vnd.jupyter.widget-view+json": {
       "model_id": "",
       "version_major": 2,
       "version_minor": 0
      },
      "text/plain": [
       "FloatProgress(value=0.0, bar_style='info', description='Progress:', layout=Layout(height='25px', width='50%'),…"
      ]
     },
     "metadata": {},
     "output_type": "display_data"
    },
    {
     "name": "stdout",
     "output_type": "stream",
     "text": [
      "root\n",
      " |-- label: double (nullable = false)\n",
      " |-- features: vector (nullable = true)\n",
      " |-- category_code: string (nullable = true)\n",
      " |-- brand: string (nullable = true)\n",
      " |-- price: double (nullable = true)\n",
      " |-- event_type: string (nullable = true)"
     ]
    }
   ],
   "source": [
    "pipeline = Pipeline(stages = stages)\n",
    "\n",
    "pipelineModel = pipeline.fit(df)\n",
    "\n",
    "df = pipelineModel.transform(df)\n",
    "\n",
    "selectedCols = ['label', 'features'] + cols\n",
    "\n",
    "df = df.select(selectedCols)\n",
    "\n",
    "df.printSchema()"
   ]
  },
  {
   "cell_type": "code",
   "execution_count": 27,
   "id": "3c220afd",
   "metadata": {},
   "outputs": [
    {
     "data": {
      "application/vnd.jupyter.widget-view+json": {
       "model_id": "e4c424848bb549789d26e10d6f8fd478",
       "version_major": 2,
       "version_minor": 0
      },
      "text/plain": [
       "VBox()"
      ]
     },
     "metadata": {},
     "output_type": "display_data"
    },
    {
     "data": {
      "application/vnd.jupyter.widget-view+json": {
       "model_id": "",
       "version_major": 2,
       "version_minor": 0
      },
      "text/plain": [
       "FloatProgress(value=0.0, bar_style='info', description='Progress:', layout=Layout(height='25px', width='50%'),…"
      ]
     },
     "metadata": {},
     "output_type": "display_data"
    },
    {
     "name": "stdout",
     "output_type": "stream",
     "text": [
      "Training Dataset Count: 6136185\n",
      "Test Dataset Count: 2628820"
     ]
    }
   ],
   "source": [
    "train, test = df.randomSplit([0.7, 0.3], seed = 2018)\n",
    "\n",
    "print(\"Training Dataset Count: \" + str(train.count()))\n",
    "\n",
    "print(\"Test Dataset Count: \" + str(test.count()))"
   ]
  },
  {
   "cell_type": "code",
   "execution_count": 28,
   "id": "171f201e",
   "metadata": {
    "scrolled": true
   },
   "outputs": [
    {
     "data": {
      "application/vnd.jupyter.widget-view+json": {
       "model_id": "8c4c4a46facb4b7c9acc6d8e65cdfc52",
       "version_major": 2,
       "version_minor": 0
      },
      "text/plain": [
       "VBox()"
      ]
     },
     "metadata": {},
     "output_type": "display_data"
    },
    {
     "data": {
      "application/vnd.jupyter.widget-view+json": {
       "model_id": "",
       "version_major": 2,
       "version_minor": 0
      },
      "text/plain": [
       "FloatProgress(value=0.0, bar_style='info', description='Progress:', layout=Layout(height='25px', width='50%'),…"
      ]
     },
     "metadata": {},
     "output_type": "display_data"
    }
   ],
   "source": [
    "lr = LogisticRegression(featuresCol = 'features', labelCol = 'label', maxIter=10)\n",
    "\n",
    "lrModel = lr.fit(train)"
   ]
  },
  {
   "cell_type": "code",
   "execution_count": 29,
   "id": "a809ff7a",
   "metadata": {},
   "outputs": [
    {
     "data": {
      "application/vnd.jupyter.widget-view+json": {
       "model_id": "6ec33720721f468ba6cade3e595e93a6",
       "version_major": 2,
       "version_minor": 0
      },
      "text/plain": [
       "VBox()"
      ]
     },
     "metadata": {},
     "output_type": "display_data"
    },
    {
     "data": {
      "application/vnd.jupyter.widget-view+json": {
       "model_id": "",
       "version_major": 2,
       "version_minor": 0
      },
      "text/plain": [
       "FloatProgress(value=0.0, bar_style='info', description='Progress:', layout=Layout(height='25px', width='50%'),…"
      ]
     },
     "metadata": {},
     "output_type": "display_data"
    },
    {
     "name": "stderr",
     "output_type": "stream",
     "text": [
      "An error was encountered:\n",
      "An error occurred while calling o1223.coefficients.\n",
      ": org.apache.spark.SparkException: Multinomial models contain a matrix of coefficients, use coefficientMatrix instead.\n",
      "\tat org.apache.spark.ml.classification.LogisticRegressionModel.coefficients(LogisticRegression.scala:955)\n",
      "\tat sun.reflect.NativeMethodAccessorImpl.invoke0(Native Method)\n",
      "\tat sun.reflect.NativeMethodAccessorImpl.invoke(NativeMethodAccessorImpl.java:62)\n",
      "\tat sun.reflect.DelegatingMethodAccessorImpl.invoke(DelegatingMethodAccessorImpl.java:43)\n",
      "\tat java.lang.reflect.Method.invoke(Method.java:498)\n",
      "\tat py4j.reflection.MethodInvoker.invoke(MethodInvoker.java:244)\n",
      "\tat py4j.reflection.ReflectionEngine.invoke(ReflectionEngine.java:357)\n",
      "\tat py4j.Gateway.invoke(Gateway.java:282)\n",
      "\tat py4j.commands.AbstractCommand.invokeMethod(AbstractCommand.java:132)\n",
      "\tat py4j.commands.CallCommand.execute(CallCommand.java:79)\n",
      "\tat py4j.GatewayConnection.run(GatewayConnection.java:238)\n",
      "\tat java.lang.Thread.run(Thread.java:748)\n",
      "\n",
      "Traceback (most recent call last):\n",
      "  File \"/usr/lib/spark/python/lib/pyspark.zip/pyspark/ml/classification.py\", line 500, in coefficients\n",
      "    return self._call_java(\"coefficients\")\n",
      "  File \"/usr/lib/spark/python/lib/pyspark.zip/pyspark/ml/wrapper.py\", line 55, in _call_java\n",
      "    return _java2py(sc, m(*java_args))\n",
      "  File \"/usr/lib/spark/python/lib/py4j-0.10.7-src.zip/py4j/java_gateway.py\", line 1257, in __call__\n",
      "    answer, self.gateway_client, self.target_id, self.name)\n",
      "  File \"/usr/lib/spark/python/lib/pyspark.zip/pyspark/sql/utils.py\", line 63, in deco\n",
      "    return f(*a, **kw)\n",
      "  File \"/usr/lib/spark/python/lib/py4j-0.10.7-src.zip/py4j/protocol.py\", line 328, in get_return_value\n",
      "    format(target_id, \".\", name), value)\n",
      "py4j.protocol.Py4JJavaError: An error occurred while calling o1223.coefficients.\n",
      ": org.apache.spark.SparkException: Multinomial models contain a matrix of coefficients, use coefficientMatrix instead.\n",
      "\tat org.apache.spark.ml.classification.LogisticRegressionModel.coefficients(LogisticRegression.scala:955)\n",
      "\tat sun.reflect.NativeMethodAccessorImpl.invoke0(Native Method)\n",
      "\tat sun.reflect.NativeMethodAccessorImpl.invoke(NativeMethodAccessorImpl.java:62)\n",
      "\tat sun.reflect.DelegatingMethodAccessorImpl.invoke(DelegatingMethodAccessorImpl.java:43)\n",
      "\tat java.lang.reflect.Method.invoke(Method.java:498)\n",
      "\tat py4j.reflection.MethodInvoker.invoke(MethodInvoker.java:244)\n",
      "\tat py4j.reflection.ReflectionEngine.invoke(ReflectionEngine.java:357)\n",
      "\tat py4j.Gateway.invoke(Gateway.java:282)\n",
      "\tat py4j.commands.AbstractCommand.invokeMethod(AbstractCommand.java:132)\n",
      "\tat py4j.commands.CallCommand.execute(CallCommand.java:79)\n",
      "\tat py4j.GatewayConnection.run(GatewayConnection.java:238)\n",
      "\tat java.lang.Thread.run(Thread.java:748)\n",
      "\n",
      "\n"
     ]
    }
   ],
   "source": [
    "beta = np.sort(lrModel.coefficients)\n",
    "\n",
    "plt.clf()\n",
    "\n",
    "plt.plot(beta)\n",
    "\n",
    "plt.ylabel('Beta Coefficients')\n",
    "\n",
    "plt.show()\n",
    "\n",
    "%matplot plt"
   ]
  },
  {
   "cell_type": "code",
   "execution_count": 30,
   "id": "c45f55c9",
   "metadata": {},
   "outputs": [
    {
     "data": {
      "application/vnd.jupyter.widget-view+json": {
       "model_id": "8f2c2dd3b8b04afd997c3284fc684a5a",
       "version_major": 2,
       "version_minor": 0
      },
      "text/plain": [
       "VBox()"
      ]
     },
     "metadata": {},
     "output_type": "display_data"
    },
    {
     "data": {
      "application/vnd.jupyter.widget-view+json": {
       "model_id": "",
       "version_major": 2,
       "version_minor": 0
      },
      "text/plain": [
       "FloatProgress(value=0.0, bar_style='info', description='Progress:', layout=Layout(height='25px', width='50%'),…"
      ]
     },
     "metadata": {},
     "output_type": "display_data"
    },
    {
     "name": "stderr",
     "output_type": "stream",
     "text": [
      "An error was encountered:\n",
      "'LogisticRegressionTrainingSummary' object has no attribute 'roc'\n",
      "Traceback (most recent call last):\n",
      "AttributeError: 'LogisticRegressionTrainingSummary' object has no attribute 'roc'\n",
      "\n"
     ]
    }
   ],
   "source": [
    "trainingSummary = lrModel.summary\n",
    "\n",
    "roc = trainingSummary.roc.toPandas()\n",
    "\n",
    "plt.clf()\n",
    "\n",
    "plt.plot(roc['FPR'],roc['TPR'])\n",
    "\n",
    "plt.ylabel('False Positive Rate')\n",
    "\n",
    "plt.xlabel('True Positive Rate')\n",
    "\n",
    "plt.title('ROC Curve')\n",
    "\n",
    "plt.show()\n",
    "\n",
    "%matplot plt"
   ]
  },
  {
   "cell_type": "code",
   "execution_count": 31,
   "id": "28520146",
   "metadata": {},
   "outputs": [
    {
     "data": {
      "application/vnd.jupyter.widget-view+json": {
       "model_id": "78f49d43e23b4739bf992599f4606f27",
       "version_major": 2,
       "version_minor": 0
      },
      "text/plain": [
       "VBox()"
      ]
     },
     "metadata": {},
     "output_type": "display_data"
    },
    {
     "data": {
      "application/vnd.jupyter.widget-view+json": {
       "model_id": "",
       "version_major": 2,
       "version_minor": 0
      },
      "text/plain": [
       "FloatProgress(value=0.0, bar_style='info', description='Progress:', layout=Layout(height='25px', width='50%'),…"
      ]
     },
     "metadata": {},
     "output_type": "display_data"
    },
    {
     "name": "stderr",
     "output_type": "stream",
     "text": [
      "An error was encountered:\n",
      "'LogisticRegressionTrainingSummary' object has no attribute 'pr'\n",
      "Traceback (most recent call last):\n",
      "AttributeError: 'LogisticRegressionTrainingSummary' object has no attribute 'pr'\n",
      "\n"
     ]
    }
   ],
   "source": [
    "pr = trainingSummary.pr.toPandas()\n",
    "\n",
    "plt.clf()\n",
    "\n",
    "plt.plot(pr['recall'],pr['precision'])\n",
    "\n",
    "plt.ylabel('Precision')\n",
    "\n",
    "plt.xlabel('Recall')\n",
    "\n",
    "plt.show()\n",
    "\n",
    "%matplot plt"
   ]
  },
  {
   "cell_type": "code",
   "execution_count": 32,
   "id": "7595d982",
   "metadata": {},
   "outputs": [
    {
     "data": {
      "application/vnd.jupyter.widget-view+json": {
       "model_id": "49f09dbd0ff94187bd027498b6c42558",
       "version_major": 2,
       "version_minor": 0
      },
      "text/plain": [
       "VBox()"
      ]
     },
     "metadata": {},
     "output_type": "display_data"
    },
    {
     "data": {
      "application/vnd.jupyter.widget-view+json": {
       "model_id": "",
       "version_major": 2,
       "version_minor": 0
      },
      "text/plain": [
       "FloatProgress(value=0.0, bar_style='info', description='Progress:', layout=Layout(height='25px', width='50%'),…"
      ]
     },
     "metadata": {},
     "output_type": "display_data"
    },
    {
     "name": "stderr",
     "output_type": "stream",
     "text": [
      "An error was encountered:\n",
      "'LogisticRegressionTrainingSummary' object has no attribute 'fMeasureByThreshold'\n",
      "Traceback (most recent call last):\n",
      "AttributeError: 'LogisticRegressionTrainingSummary' object has no attribute 'fMeasureByThreshold'\n",
      "\n"
     ]
    }
   ],
   "source": [
    "f = trainingSummary.fMeasureByThreshold.toPandas()\n",
    "\n",
    "plt.clf()\n",
    "\n",
    "plt.plot(f['threshold'],f['F-Measure'])\n",
    "\n",
    "plt.ylabel('F-Measure')\n",
    "\n",
    "plt.xlabel('Threshold')\n",
    "\n",
    "plt.show()\n",
    "\n",
    "%matplot plt"
   ]
  },
  {
   "cell_type": "code",
   "execution_count": 33,
   "id": "f4ad293a",
   "metadata": {},
   "outputs": [
    {
     "data": {
      "application/vnd.jupyter.widget-view+json": {
       "model_id": "d773eae294e247468c328b663a22007c",
       "version_major": 2,
       "version_minor": 0
      },
      "text/plain": [
       "VBox()"
      ]
     },
     "metadata": {},
     "output_type": "display_data"
    },
    {
     "data": {
      "application/vnd.jupyter.widget-view+json": {
       "model_id": "",
       "version_major": 2,
       "version_minor": 0
      },
      "text/plain": [
       "FloatProgress(value=0.0, bar_style='info', description='Progress:', layout=Layout(height='25px', width='50%'),…"
      ]
     },
     "metadata": {},
     "output_type": "display_data"
    },
    {
     "name": "stderr",
     "output_type": "stream",
     "text": [
      "An error was encountered:\n",
      "\"cannot resolve '`age`' given input columns: [price, features, prediction, event_type, label, rawPrediction, probability, category_code, brand];;\\n'Project ['age, 'job, label#1200, rawPrediction#1362, prediction#1379, probability#1370]\\n+- Project [label#1200, features#1212, category_code#693, brand#694, price#695, event_type#690, rawPrediction#1362, probability#1370, UDF(rawPrediction#1362) AS prediction#1379]\\n   +- Project [label#1200, features#1212, category_code#693, brand#694, price#695, event_type#690, rawPrediction#1362, UDF(rawPrediction#1362) AS probability#1370]\\n      +- Project [label#1200, features#1212, category_code#693, brand#694, price#695, event_type#690, UDF(features#1212) AS rawPrediction#1362]\\n         +- Sample 0.7, 1.0, false, 2018\\n            +- Sort [label#1200 ASC NULLS FIRST, features#1212 ASC NULLS FIRST, category_code#693 ASC NULLS FIRST, brand#694 ASC NULLS FIRST, price#695 ASC NULLS FIRST, event_type#690 ASC NULLS FIRST], false\\n               +- Project [label#1200, features#1212, category_code#693, brand#694, price#695, event_type#690]\\n                  +- Project [category_code#693, brand#694, price#695, event_type#690, category_codeIndex#1146, category_codeclassVec#1153, brandIndex#1160, brandclassVec#1169, priceIndex#1178, priceclassVec#1189, label#1200, UDF(named_struct(category_codeclassVec, category_codeclassVec#1153, brandclassVec, brandclassVec#1169, priceclassVec, priceclassVec#1189)) AS features#1212]\\n                     +- Project [category_code#693, brand#694, price#695, event_type#690, category_codeIndex#1146, category_codeclassVec#1153, brandIndex#1160, brandclassVec#1169, priceIndex#1178, priceclassVec#1189, UDF(cast(event_type#690 as string)) AS label#1200]\\n                        +- Project [category_code#693, brand#694, price#695, event_type#690, category_codeIndex#1146, category_codeclassVec#1153, brandIndex#1160, brandclassVec#1169, priceIndex#1178, if ((isnull(cast(priceIndex#1178 as double)) || isnull(0))) null else UDF(cast(priceIndex#1178 as double), 0) AS priceclassVec#1189]\\n                           +- Project [category_code#693, brand#694, price#695, event_type#690, category_codeIndex#1146, category_codeclassVec#1153, brandIndex#1160, brandclassVec#1169, UDF(cast(price#695 as string)) AS priceIndex#1178]\\n                              +- Project [category_code#693, brand#694, price#695, event_type#690, category_codeIndex#1146, category_codeclassVec#1153, brandIndex#1160, if ((isnull(cast(brandIndex#1160 as double)) || isnull(0))) null else UDF(cast(brandIndex#1160 as double), 0) AS brandclassVec#1169]\\n                                 +- Project [category_code#693, brand#694, price#695, event_type#690, category_codeIndex#1146, category_codeclassVec#1153, UDF(cast(brand#694 as string)) AS brandIndex#1160]\\n                                    +- Project [category_code#693, brand#694, price#695, event_type#690, category_codeIndex#1146, if ((isnull(cast(category_codeIndex#1146 as double)) || isnull(0))) null else UDF(cast(category_codeIndex#1146 as double), 0) AS category_codeclassVec#1153]\\n                                       +- Project [category_code#693, brand#694, price#695, event_type#690, UDF(cast(category_code#693 as string)) AS category_codeIndex#1146]\\n                                          +- Project [category_code#693, brand#694, price#695, event_type#690]\\n                                             +- Relation[_c0#687,Unnamed: 0#688,event_time#689,event_type#690,product_id#691,category_id#692L,category_code#693,brand#694,price#695,user_id#696,user_session#697] csv\\n\"\n",
      "Traceback (most recent call last):\n",
      "  File \"/usr/lib/spark/python/lib/pyspark.zip/pyspark/sql/dataframe.py\", line 1327, in select\n",
      "    jdf = self._jdf.select(self._jcols(*cols))\n",
      "  File \"/usr/lib/spark/python/lib/py4j-0.10.7-src.zip/py4j/java_gateway.py\", line 1257, in __call__\n",
      "    answer, self.gateway_client, self.target_id, self.name)\n",
      "  File \"/usr/lib/spark/python/lib/pyspark.zip/pyspark/sql/utils.py\", line 69, in deco\n",
      "    raise AnalysisException(s.split(': ', 1)[1], stackTrace)\n",
      "pyspark.sql.utils.AnalysisException: \"cannot resolve '`age`' given input columns: [price, features, prediction, event_type, label, rawPrediction, probability, category_code, brand];;\\n'Project ['age, 'job, label#1200, rawPrediction#1362, prediction#1379, probability#1370]\\n+- Project [label#1200, features#1212, category_code#693, brand#694, price#695, event_type#690, rawPrediction#1362, probability#1370, UDF(rawPrediction#1362) AS prediction#1379]\\n   +- Project [label#1200, features#1212, category_code#693, brand#694, price#695, event_type#690, rawPrediction#1362, UDF(rawPrediction#1362) AS probability#1370]\\n      +- Project [label#1200, features#1212, category_code#693, brand#694, price#695, event_type#690, UDF(features#1212) AS rawPrediction#1362]\\n         +- Sample 0.7, 1.0, false, 2018\\n            +- Sort [label#1200 ASC NULLS FIRST, features#1212 ASC NULLS FIRST, category_code#693 ASC NULLS FIRST, brand#694 ASC NULLS FIRST, price#695 ASC NULLS FIRST, event_type#690 ASC NULLS FIRST], false\\n               +- Project [label#1200, features#1212, category_code#693, brand#694, price#695, event_type#690]\\n                  +- Project [category_code#693, brand#694, price#695, event_type#690, category_codeIndex#1146, category_codeclassVec#1153, brandIndex#1160, brandclassVec#1169, priceIndex#1178, priceclassVec#1189, label#1200, UDF(named_struct(category_codeclassVec, category_codeclassVec#1153, brandclassVec, brandclassVec#1169, priceclassVec, priceclassVec#1189)) AS features#1212]\\n                     +- Project [category_code#693, brand#694, price#695, event_type#690, category_codeIndex#1146, category_codeclassVec#1153, brandIndex#1160, brandclassVec#1169, priceIndex#1178, priceclassVec#1189, UDF(cast(event_type#690 as string)) AS label#1200]\\n                        +- Project [category_code#693, brand#694, price#695, event_type#690, category_codeIndex#1146, category_codeclassVec#1153, brandIndex#1160, brandclassVec#1169, priceIndex#1178, if ((isnull(cast(priceIndex#1178 as double)) || isnull(0))) null else UDF(cast(priceIndex#1178 as double), 0) AS priceclassVec#1189]\\n                           +- Project [category_code#693, brand#694, price#695, event_type#690, category_codeIndex#1146, category_codeclassVec#1153, brandIndex#1160, brandclassVec#1169, UDF(cast(price#695 as string)) AS priceIndex#1178]\\n                              +- Project [category_code#693, brand#694, price#695, event_type#690, category_codeIndex#1146, category_codeclassVec#1153, brandIndex#1160, if ((isnull(cast(brandIndex#1160 as double)) || isnull(0))) null else UDF(cast(brandIndex#1160 as double), 0) AS brandclassVec#1169]\\n                                 +- Project [category_code#693, brand#694, price#695, event_type#690, category_codeIndex#1146, category_codeclassVec#1153, UDF(cast(brand#694 as string)) AS brandIndex#1160]\\n                                    +- Project [category_code#693, brand#694, price#695, event_type#690, category_codeIndex#1146, if ((isnull(cast(category_codeIndex#1146 as double)) || isnull(0))) null else UDF(cast(category_codeIndex#1146 as double), 0) AS category_codeclassVec#1153]\\n                                       +- Project [category_code#693, brand#694, price#695, event_type#690, UDF(cast(category_code#693 as string)) AS category_codeIndex#1146]\\n                                          +- Project [category_code#693, brand#694, price#695, event_type#690]\\n                                             +- Relation[_c0#687,Unnamed: 0#688,event_time#689,event_type#690,product_id#691,category_id#692L,category_code#693,brand#694,price#695,user_id#696,user_session#697] csv\\n\"\n",
      "\n"
     ]
    }
   ],
   "source": [
    "predictions = lrModel.transform(test)\n",
    "\n",
    "predictions.select('age', 'job', 'label', 'rawPrediction', 'prediction', 'probability').show(10)"
   ]
  },
  {
   "cell_type": "code",
   "execution_count": 34,
   "id": "0e233649",
   "metadata": {},
   "outputs": [
    {
     "data": {
      "application/vnd.jupyter.widget-view+json": {
       "model_id": "ba77cc9d69ca49b397dd51d40b0baa57",
       "version_major": 2,
       "version_minor": 0
      },
      "text/plain": [
       "VBox()"
      ]
     },
     "metadata": {},
     "output_type": "display_data"
    },
    {
     "data": {
      "application/vnd.jupyter.widget-view+json": {
       "model_id": "",
       "version_major": 2,
       "version_minor": 0
      },
      "text/plain": [
       "FloatProgress(value=0.0, bar_style='info', description='Progress:', layout=Layout(height='25px', width='50%'),…"
      ]
     },
     "metadata": {},
     "output_type": "display_data"
    },
    {
     "name": "stdout",
     "output_type": "stream",
     "text": [
      "Test Area Under ROC 0.7159453620956935"
     ]
    }
   ],
   "source": [
    "evaluator = BinaryClassificationEvaluator()\n",
    "\n",
    "print('Test Area Under ROC', evaluator.evaluate(predictions))"
   ]
  },
  {
   "cell_type": "code",
   "execution_count": 35,
   "id": "34dd3e29",
   "metadata": {},
   "outputs": [
    {
     "data": {
      "application/vnd.jupyter.widget-view+json": {
       "model_id": "4155761535844bc49eaabf6659a4718f",
       "version_major": 2,
       "version_minor": 0
      },
      "text/plain": [
       "VBox()"
      ]
     },
     "metadata": {},
     "output_type": "display_data"
    },
    {
     "data": {
      "application/vnd.jupyter.widget-view+json": {
       "model_id": "",
       "version_major": 2,
       "version_minor": 0
      },
      "text/plain": [
       "FloatProgress(value=0.0, bar_style='info', description='Progress:', layout=Layout(height='25px', width='50%'),…"
      ]
     },
     "metadata": {},
     "output_type": "display_data"
    },
    {
     "name": "stdout",
     "output_type": "stream",
     "text": [
      "'areaUnderROC'"
     ]
    }
   ],
   "source": [
    "evaluator.getMetricName()"
   ]
  },
  {
   "cell_type": "code",
   "execution_count": null,
   "id": "e4fd426c",
   "metadata": {},
   "outputs": [
    {
     "data": {
      "application/vnd.jupyter.widget-view+json": {
       "model_id": "a0d1d9aa2eb949e2b11266dd38b2174d",
       "version_major": 2,
       "version_minor": 0
      },
      "text/plain": [
       "VBox()"
      ]
     },
     "metadata": {},
     "output_type": "display_data"
    },
    {
     "data": {
      "application/vnd.jupyter.widget-view+json": {
       "model_id": "ab58991df59b4ee0acb49e102c27b7bf",
       "version_major": 2,
       "version_minor": 0
      },
      "text/plain": [
       "FloatProgress(value=0.0, bar_style='info', description='Progress:', layout=Layout(height='25px', width='50%'),…"
      ]
     },
     "metadata": {},
     "output_type": "display_data"
    }
   ],
   "source": [
    "dt = DecisionTreeClassifier(featuresCol = 'features', labelCol = 'label', maxDepth = 3)\n",
    "\n",
    "dtModel = dt.fit(train)\n",
    "\n",
    "predictions = dtModel.transform(test)\n",
    "\n",
    "predictions.select('age', 'job', 'label', 'rawPrediction', 'prediction', 'probability').show(10)"
   ]
  },
  {
   "cell_type": "code",
   "execution_count": null,
   "id": "ac08933c",
   "metadata": {},
   "outputs": [],
   "source": [
    "evaluator = BinaryClassificationEvaluator()\n",
    "\n",
    "print(\"Test Area Under ROC: \" + str(evaluator.evaluate(predictions, {evaluator.metricName: \"areaUnderROC\"})))"
   ]
  },
  {
   "cell_type": "code",
   "execution_count": null,
   "id": "f2945715",
   "metadata": {},
   "outputs": [],
   "source": [
    "rf = RandomForestClassifier(featuresCol = 'features', labelCol = 'label')\n",
    "\n",
    "rfModel = rf.fit(train)\n",
    "\n",
    "predictions = rfModel.transform(test)\n",
    "\n",
    "predictions.select('age', 'job', 'label', 'rawPrediction', 'prediction', 'probability').show(10)"
   ]
  },
  {
   "cell_type": "code",
   "execution_count": null,
   "id": "56ecd8e5",
   "metadata": {},
   "outputs": [],
   "source": [
    "evaluator = BinaryClassificationEvaluator()\n",
    "\n",
    "print(\"Test Area Under ROC: \" + str(evaluator.evaluate(predictions, {evaluator.metricName: \"areaUnderROC\"})))"
   ]
  }
 ],
 "metadata": {
  "kernelspec": {
   "display_name": "PySpark",
   "language": "",
   "name": "pysparkkernel"
  },
  "language_info": {
   "codemirror_mode": {
    "name": "python",
    "version": 3
   },
   "mimetype": "text/x-python",
   "name": "pyspark",
   "pygments_lexer": "python3"
  }
 },
 "nbformat": 4,
 "nbformat_minor": 5
}
