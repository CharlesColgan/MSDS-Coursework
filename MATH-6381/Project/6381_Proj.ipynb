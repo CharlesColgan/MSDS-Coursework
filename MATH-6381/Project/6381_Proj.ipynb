{
  "nbformat": 4,
  "nbformat_minor": 0,
  "metadata": {
    "colab": {
      "name": "6381_Proj.ipynb",
      "provenance": [],
      "include_colab_link": true
    },
    "kernelspec": {
      "name": "python3",
      "display_name": "Python 3"
    }
  },
  "cells": [
    {
      "cell_type": "markdown",
      "metadata": {
        "id": "view-in-github",
        "colab_type": "text"
      },
      "source": [
        "<a href=\"https://colab.research.google.com/github/CharlesColgan/MSDS-6381-CODE/blob/main/Project/6381_Proj.ipynb\" target=\"_parent\"><img src=\"https://colab.research.google.com/assets/colab-badge.svg\" alt=\"Open In Colab\"/></a>"
      ]
    },
    {
      "cell_type": "markdown",
      "metadata": {
        "id": "BdBFKxLuhDqm"
      },
      "source": [
        "Packages"
      ]
    },
    {
      "cell_type": "code",
      "metadata": {
        "id": "vg4QKLiLJWt8",
        "colab": {
          "base_uri": "https://localhost:8080/"
        },
        "outputId": "6f6d666c-0291-466e-d4c5-c7773fe46c33"
      },
      "source": [
        "from google.colab import files\n",
        "import time\n",
        "import numpy as np\n",
        "import pandas as pd\n",
        "from sklearn.feature_extraction.text import CountVectorizer\n",
        "from sklearn.feature_extraction.text import TfidfVectorizer\n",
        "import re\n",
        "import nltk\n",
        "from nltk.corpus import stopwords\n",
        "nltk.download('stopwords')\n",
        "from nltk.tokenize import word_tokenize\n",
        "nltk.download('punkt')"
      ],
      "execution_count": 286,
      "outputs": [
        {
          "output_type": "stream",
          "text": [
            "[nltk_data] Downloading package stopwords to /root/nltk_data...\n",
            "[nltk_data]   Package stopwords is already up-to-date!\n",
            "[nltk_data] Downloading package punkt to /root/nltk_data...\n",
            "[nltk_data]   Package punkt is already up-to-date!\n"
          ],
          "name": "stdout"
        },
        {
          "output_type": "execute_result",
          "data": {
            "text/plain": [
              "True"
            ]
          },
          "metadata": {
            "tags": []
          },
          "execution_count": 286
        }
      ]
    },
    {
      "cell_type": "markdown",
      "metadata": {
        "id": "Q5V_RyjJO-No"
      },
      "source": [
        "# Data Sets"
      ]
    },
    {
      "cell_type": "markdown",
      "metadata": {
        "id": "TWuDLLQ643hT"
      },
      "source": [
        "https://www.kaggle.com/sl6149/data-scientist-job-market-in-the-us"
      ]
    },
    {
      "cell_type": "markdown",
      "metadata": {
        "id": "b1ZLx7LS_wJg"
      },
      "source": [
        "import"
      ]
    },
    {
      "cell_type": "code",
      "metadata": {
        "id": "1Kj9KOHchnpJ"
      },
      "source": [
        "header = [\"Position\", \"Company\", \"Description\", \"Number of Reviews\", \"City\"]\n",
        "\n",
        "AL = pd.read_csv(\"https://raw.githubusercontent.com/CharlesColgan/MSDS-6381-CODE/main/Project/fulltimeAL.csv\", names = header).drop(0).reset_index(drop=True)\n",
        "\n",
        "AT = pd.read_csv(\"https://raw.githubusercontent.com/CharlesColgan/MSDS-6381-CODE/main/Project/fulltimeAT.csv\", names = header).drop(0).reset_index(drop=True)\n",
        "\n",
        "BO = pd.read_csv(\"https://raw.githubusercontent.com/CharlesColgan/MSDS-6381-CODE/main/Project/fulltimeBO.csv\", names = header).drop(0).reset_index(drop=True)\n",
        "\n",
        "BOS = pd.read_csv(\"https://raw.githubusercontent.com/CharlesColgan/MSDS-6381-CODE/main/Project/fulltimeBOS.csv\", names = header).drop(0).reset_index(drop=True)\n",
        "\n",
        "CHI = pd.read_csv(\"https://raw.githubusercontent.com/CharlesColgan/MSDS-6381-CODE/main/Project/fulltimeCHI.csv\", names = header).drop(0).reset_index(drop=True)\n",
        "\n",
        "DC = pd.read_csv(\"https://raw.githubusercontent.com/CharlesColgan/MSDS-6381-CODE/main/Project/fulltimeDC.csv\", names = header).drop(0).reset_index(drop=True)\n",
        "\n",
        "LA = pd.read_csv(\"https://raw.githubusercontent.com/CharlesColgan/MSDS-6381-CODE/main/Project/fulltimeLA.csv\", names = header).drop(0).reset_index(drop=True)\n",
        "\n",
        "MA = pd.read_csv(\"https://raw.githubusercontent.com/CharlesColgan/MSDS-6381-CODE/main/Project/fulltimeMA.csv\", names = header).drop(0).reset_index(drop=True)\n",
        "\n",
        "MV = pd.read_csv(\"https://raw.githubusercontent.com/CharlesColgan/MSDS-6381-CODE/main/Project/fulltimeMV.csv\", names = header).drop(0).reset_index(drop=True)\n",
        "\n",
        "NY = pd.read_csv(\"https://raw.githubusercontent.com/CharlesColgan/MSDS-6381-CODE/main/Project/fulltimeNY.csv\", names = header).drop(0).reset_index(drop=True)\n",
        "\n",
        "RM = pd.read_csv(\"https://raw.githubusercontent.com/CharlesColgan/MSDS-6381-CODE/main/Project/fulltimeRM.csv\", names = header).drop(0).reset_index(drop=True)\n",
        "\n",
        "SD = pd.read_csv(\"https://raw.githubusercontent.com/CharlesColgan/MSDS-6381-CODE/main/Project/fulltimeSD.csv\", names = header).drop(0).reset_index(drop=True)\n",
        "\n",
        "SEA = pd.read_csv(\"https://raw.githubusercontent.com/CharlesColgan/MSDS-6381-CODE/main/Project/fulltimeSEA.csv\", names = header).drop(0).reset_index(drop=True)\n",
        "\n",
        "SF = pd.read_csv(\"https://raw.githubusercontent.com/CharlesColgan/MSDS-6381-CODE/main/Project/fulltimeSF.csv\", names = header).drop(0).reset_index(drop=True)\n",
        "\n",
        "US = pd.read_csv(\"https://raw.githubusercontent.com/CharlesColgan/MSDS-6381-CODE/main/Project/fulltimeSU.csv\", names = header).drop(0).reset_index(drop=True)"
      ],
      "execution_count": 287,
      "outputs": []
    },
    {
      "cell_type": "markdown",
      "metadata": {
        "id": "G9NQxI65_yZ7"
      },
      "source": [
        "Add State"
      ]
    },
    {
      "cell_type": "code",
      "metadata": {
        "id": "bftaJU4-_x5X"
      },
      "source": [
        "AL[\"State\"] = \"GA\"\n",
        "\n",
        "AT[\"State\"] = \"TX\"\n",
        "\n",
        "BO[\"State\"] = \"CO\"\n",
        "\n",
        "BOS[\"State\"] = \"MA\"\n",
        "\n",
        "CHI[\"State\"] = \"IL\"\n",
        "\n",
        "DC[\"State\"] = \"DC\"\n",
        "\n",
        "LA[\"State\"] = \"CA\"\n",
        "\n",
        "MA[\"State\"] = \"MA\"\n",
        "\n",
        "MV[\"State\"] = \"CA\"\n",
        "\n",
        "NY[\"State\"] = \"NY\"\n",
        "\n",
        "RM[\"State\"] = \"WA\"\n",
        "\n",
        "SD[\"State\"] = \"CA\"\n",
        "\n",
        "SEA[\"State\"] = \"WA\"\n",
        "\n",
        "SF[\"State\"] = \"CA\"\n",
        "\n",
        "US[\"State\"] = \"CA\""
      ],
      "execution_count": 288,
      "outputs": []
    },
    {
      "cell_type": "markdown",
      "metadata": {
        "id": "F3EZeSmv_0w7"
      },
      "source": [
        "Combine into single DataFrame"
      ]
    },
    {
      "cell_type": "code",
      "metadata": {
        "id": "xMb9T2Nw_3BP"
      },
      "source": [
        "ALL = pd.concat([AL,AT,BO,BOS,CHI,DC,LA,MA,MV,NY,RM,SD,SEA,SF,US]).reset_index(drop=True)\n",
        "\n",
        "ALL = ALL.dropna().reset_index(drop=True)"
      ],
      "execution_count": 289,
      "outputs": []
    },
    {
      "cell_type": "markdown",
      "metadata": {
        "id": "qk38f9Ios7GE"
      },
      "source": [
        "Create Copy"
      ]
    },
    {
      "cell_type": "code",
      "metadata": {
        "id": "5C6U6ulCs74Y"
      },
      "source": [
        "ALL_BASE = ALL.copy()"
      ],
      "execution_count": 290,
      "outputs": []
    },
    {
      "cell_type": "markdown",
      "metadata": {
        "id": "JoaG8_YSPC2H"
      },
      "source": [
        "# Cleaning"
      ]
    },
    {
      "cell_type": "markdown",
      "metadata": {
        "id": "hAFa_NB9vXbA"
      },
      "source": [
        "identifiy stings to remove"
      ]
    },
    {
      "cell_type": "code",
      "metadata": {
        "id": "rChN4SOevaai"
      },
      "source": [
        "def clean_desc(text):\n",
        "\n",
        "  def remove_html_tags(text):\n",
        "    \"Remove html tags from string\"\n",
        "\n",
        "    clean = re.compile(\"<.*?>\")\n",
        "\n",
        "    return re.sub(clean, \" \", text)\n",
        "\n",
        "  def n_strip(text):\n",
        "    \"Remove \\n from string\"\n",
        "\n",
        "    clean = re.compile(\"\\n\")\n",
        "\n",
        "    return re.sub(clean, \" \", text)\n",
        "\n",
        "  def W_strip(text):\n",
        "    \"Remove punctuation\"\n",
        "\n",
        "    clean = re.compile(\"[^\\w\\s]\")\n",
        "\n",
        "    return re.sub(clean, \"\", text)\n",
        "\n",
        "  a = remove_html_tags(text)\n",
        "\n",
        "  b = n_strip(a)\n",
        "\n",
        "  c = W_strip(b)\n",
        "\n",
        "  return c\n",
        "\n",
        "def small_clean(text):\n",
        "\n",
        "  def remove_html_tags(text):\n",
        "    \"Remove html tags from string\"\n",
        "\n",
        "    clean = re.compile(\"<.*?>\")\n",
        "\n",
        "    return re.sub(clean, \" \", text)\n",
        "\n",
        "  def n_strip(text):\n",
        "    \"Remove \\n from string\"\n",
        "\n",
        "    clean = re.compile(\"\\n\")\n",
        "\n",
        "    return re.sub(clean, \" \", text)\n",
        "\n",
        "  def W_strip(text):\n",
        "    \"Remove punctuation\"\n",
        "\n",
        "    clean = re.compile(\"[^\\w\\s]\")\n",
        "\n",
        "    return re.sub(clean, \"\", text)\n",
        "\n",
        "  a = remove_html_tags(text)\n",
        "\n",
        "  b = n_strip(a)\n",
        "\n",
        "  return b\n",
        "\n",
        "def clean_rev(text):\n",
        "  \"Remove non-numeric from numreview\"\n",
        "\n",
        "  clean = re.compile(\"reviews\")\n",
        "\n",
        "  return re.sub(clean, \" \", text)\n",
        "\n",
        "def clean_cit(text):\n",
        "  \"Remove address and state from City\"\n",
        "\n",
        "  split = text.split(\",\", 1)\n",
        "\n",
        "\n",
        "  return str(split[0])\n"
      ],
      "execution_count": 291,
      "outputs": []
    },
    {
      "cell_type": "markdown",
      "metadata": {
        "id": "tYP2T39Nvbqm"
      },
      "source": [
        "Clean DataFrame"
      ]
    },
    {
      "cell_type": "code",
      "metadata": {
        "id": "rI2nV4AKk5K1"
      },
      "source": [
        "ALL[\"Description\"] = ALL[\"Description\"].apply(clean_desc).apply(str.casefold)\n",
        "\n",
        "ALL_BASE[\"Description\"] = ALL_BASE[\"Description\"].apply(small_clean)\n",
        "\n",
        "ALL[\"Number of Reviews\"] = ALL[\"Number of Reviews\"].apply(clean_rev)\n",
        "\n",
        "ALL[\"City\"] = ALL[\"City\"].apply(clean_cit)\n",
        "\n",
        "ALL[\"Position\"] = ALL[\"Position\"].apply(str.casefold)"
      ],
      "execution_count": 292,
      "outputs": []
    },
    {
      "cell_type": "markdown",
      "metadata": {
        "id": "39gwS3mNQXPn"
      },
      "source": [
        "# Catagorizing"
      ]
    },
    {
      "cell_type": "markdown",
      "metadata": {
        "id": "x9GlxXBLslxZ"
      },
      "source": [
        "Create Catagories"
      ]
    },
    {
      "cell_type": "code",
      "metadata": {
        "id": "h-uXuU9gQa4q"
      },
      "source": [
        "CAT = pd.read_csv(\"https://raw.githubusercontent.com/CharlesColgan/MSDS-6381-CODE/main/Project/categories.csv\")\n",
        "\n",
        "Exp = list(CAT[\"year of experience\"].dropna())\n",
        "\n",
        "Deg = [str.lower(x) for x in list(CAT[\"degrees\"].dropna())]\n",
        "\n",
        "Skill = [str.lower(x) for x in list(CAT[\"skills\"].dropna())]\n",
        "\n",
        "Title = [\"analyst\", \"engineer\", \"scientist\", \"senior\", \"management\", \"specialist\", \"assistant\"]"
      ],
      "execution_count": 293,
      "outputs": []
    },
    {
      "cell_type": "markdown",
      "metadata": {
        "id": "9G6m4N-asj-0"
      },
      "source": [
        "Create Labeler"
      ]
    },
    {
      "cell_type": "code",
      "metadata": {
        "id": "6lDJd_hWUjZ4"
      },
      "source": [
        "def labeler(obj, labels, simple = True):\n",
        "\n",
        "  def scanner(obj, target):\n",
        "\n",
        "    return target in obj \n",
        "\n",
        "  lab = []\n",
        "\n",
        "  for i in range(len(labels)):\n",
        "\n",
        "    if scanner(obj, labels[i]) == True:\n",
        "\n",
        "      lab.append(labels[i])\n",
        "\n",
        "  if simple == True:\n",
        "\n",
        "    if len(lab) > 1:\n",
        "\n",
        "      lab.clear()\n",
        "\n",
        "      lab = [\"multiple\"]\n",
        "\n",
        "      return lab\n",
        "\n",
        "    else:\n",
        "\n",
        "      return lab\n",
        "\n",
        "  else:\n",
        "\n",
        "    return lab\n",
        "\n",
        "def string_form(text): \n",
        "    \n",
        "    str1 = \" \" \n",
        "\n",
        "    if type(text) != str:\n",
        "\n",
        "      return (str1.join(text))\n",
        "\n",
        "    else:\n",
        "\n",
        "      return (\"other\")"
      ],
      "execution_count": 294,
      "outputs": []
    },
    {
      "cell_type": "markdown",
      "metadata": {
        "id": "G4WzGHHvW4nj"
      },
      "source": [
        "Find/apply correct labels"
      ]
    },
    {
      "cell_type": "code",
      "metadata": {
        "id": "d0twxA9_M3EP"
      },
      "source": [
        "a, b, c, d = [], [], [], []\n",
        "\n",
        "for i in range(len(ALL[\"Position\"])):\n",
        "\n",
        "  a.append(labeler(ALL[\"Position\"][i], Title))\n",
        "\n",
        "  b.append(labeler(ALL[\"Description\"][i], Deg))\n",
        "\n",
        "  c.append(labeler(ALL[\"Description\"][i], Skill, simple = False))\n",
        "\n",
        "ALL[\"Title\"] = a; ALL[\"Degree\"] = b; ALL[\"Skills\"] = c\n",
        "\n",
        "ALL[\"Title\"] = ALL[\"Title\"].apply(lambda y: np.nan if len(y)==0 else y); ALL[\"Title\"] = ALL[\"Title\"].fillna(\"other\")\n",
        "\n",
        "ALL[\"Degree\"] = ALL[\"Degree\"].apply(lambda y: np.nan if len(y)==0 else y); ALL[\"Degree\"] = ALL[\"Degree\"].fillna(\"other\")\n",
        "\n",
        "ALL[\"Skills\"] = ALL[\"Skills\"].apply(lambda y: np.nan if len(y)==0 else y)\n",
        "\n",
        "ALL[\"Title\"] = ALL[\"Title\"].fillna(\"other\"); ALL[\"Degree\"] = ALL[\"Degree\"].fillna(\"other\"); ALL[\"Skills\"] = ALL[\"Skills\"].fillna(\"other\")\n",
        "\n",
        "ALL[\"Title\"] = ALL[\"Title\"].apply(string_form); ALL[\"Degree\"] = ALL[\"Degree\"].apply(string_form); ALL[\"Skills\"] = ALL[\"Skills\"].apply(len)\n",
        "\n",
        "ALL[\"Number of Reviews\"] = ALL[\"Number of Reviews\"].fillna(0)\n",
        "\n",
        "Title.append(\"other\")\n",
        "\n",
        "Deg.append(\"other\")\n",
        "\n",
        "Skill.append(\"other\")"
      ],
      "execution_count": 295,
      "outputs": []
    },
    {
      "cell_type": "code",
      "metadata": {
        "id": "W7_D8vxX5Sk4",
        "outputId": "f6710108-d0b8-4795-c04d-33bc63dad3ff",
        "colab": {
          "base_uri": "https://localhost:8080/",
          "height": 0
        }
      },
      "source": [
        "ALL[\"Number of Reviews\"][7]"
      ],
      "execution_count": 296,
      "outputs": [
        {
          "output_type": "execute_result",
          "data": {
            "application/vnd.google.colaboratory.intrinsic+json": {
              "type": "string"
            },
            "text/plain": [
              "'38,844  '"
            ]
          },
          "metadata": {
            "tags": []
          },
          "execution_count": 296
        }
      ]
    },
    {
      "cell_type": "markdown",
      "metadata": {
        "id": "fahfeuXRiqv3"
      },
      "source": [
        "# Compiling for Print"
      ]
    },
    {
      "cell_type": "markdown",
      "metadata": {
        "id": "NzeQDr1Vjpwf"
      },
      "source": [
        "Reset column formats"
      ]
    },
    {
      "cell_type": "code",
      "metadata": {
        "id": "gb3xGOJqjRrQ"
      },
      "source": [
        "ALL[\"Position\"] = ALL_BASE[\"Position\"]\n",
        "\n",
        "ALL[\"Description\"] = ALL_BASE[\"Description\"]"
      ],
      "execution_count": 297,
      "outputs": []
    },
    {
      "cell_type": "markdown",
      "metadata": {
        "id": "emURWdL0jt16"
      },
      "source": [
        "Write to Excel"
      ]
    },
    {
      "cell_type": "code",
      "metadata": {
        "id": "4hNTb-STjpVb",
        "colab": {
          "base_uri": "https://localhost:8080/",
          "height": 16
        },
        "outputId": "703cefe3-0c21-4a30-d303-9ea3902758b6"
      },
      "source": [
        "ALL.to_excel(\"ALL.xlsx\")\n",
        "\n",
        "files.download(\"ALL.xlsx\")"
      ],
      "execution_count": 298,
      "outputs": [
        {
          "output_type": "display_data",
          "data": {
            "application/javascript": [
              "\n",
              "    async function download(id, filename, size) {\n",
              "      if (!google.colab.kernel.accessAllowed) {\n",
              "        return;\n",
              "      }\n",
              "      const div = document.createElement('div');\n",
              "      const label = document.createElement('label');\n",
              "      label.textContent = `Downloading \"${filename}\": `;\n",
              "      div.appendChild(label);\n",
              "      const progress = document.createElement('progress');\n",
              "      progress.max = size;\n",
              "      div.appendChild(progress);\n",
              "      document.body.appendChild(div);\n",
              "\n",
              "      const buffers = [];\n",
              "      let downloaded = 0;\n",
              "\n",
              "      const channel = await google.colab.kernel.comms.open(id);\n",
              "      // Send a message to notify the kernel that we're ready.\n",
              "      channel.send({})\n",
              "\n",
              "      for await (const message of channel.messages) {\n",
              "        // Send a message to notify the kernel that we're ready.\n",
              "        channel.send({})\n",
              "        if (message.buffers) {\n",
              "          for (const buffer of message.buffers) {\n",
              "            buffers.push(buffer);\n",
              "            downloaded += buffer.byteLength;\n",
              "            progress.value = downloaded;\n",
              "          }\n",
              "        }\n",
              "      }\n",
              "      const blob = new Blob(buffers, {type: 'application/binary'});\n",
              "      const a = document.createElement('a');\n",
              "      a.href = window.URL.createObjectURL(blob);\n",
              "      a.download = filename;\n",
              "      div.appendChild(a);\n",
              "      a.click();\n",
              "      div.remove();\n",
              "    }\n",
              "  "
            ],
            "text/plain": [
              "<IPython.core.display.Javascript object>"
            ]
          },
          "metadata": {
            "tags": []
          }
        },
        {
          "output_type": "display_data",
          "data": {
            "application/javascript": [
              "download(\"download_341c07c5-6a4e-4a4e-89cc-5dc7a4641302\", \"ALL.xlsx\", 6552525)"
            ],
            "text/plain": [
              "<IPython.core.display.Javascript object>"
            ]
          },
          "metadata": {
            "tags": []
          }
        }
      ]
    },
    {
      "cell_type": "markdown",
      "metadata": {
        "id": "iZFuX_QuPI0D"
      },
      "source": [
        "# Natrual Feature Genrator"
      ]
    },
    {
      "cell_type": "markdown",
      "metadata": {
        "id": "SYMpMxwD-u33"
      },
      "source": [
        "tokenize"
      ]
    },
    {
      "cell_type": "code",
      "metadata": {
        "id": "a7uGUOpRB61A"
      },
      "source": [
        "ALL[\"Description\"] = ALL[\"Description\"].apply(word_tokenize)"
      ],
      "execution_count": 299,
      "outputs": []
    },
    {
      "cell_type": "markdown",
      "metadata": {
        "id": "pUfaMJkEB7zz"
      },
      "source": [
        "Remove excess words"
      ]
    },
    {
      "cell_type": "code",
      "metadata": {
        "id": "1MjBz6-UB7Ml",
        "colab": {
          "base_uri": "https://localhost:8080/"
        },
        "outputId": "7cbf3b43-c0f2-40a1-8315-ccc29e3624e6"
      },
      "source": [
        "locations = list(set(ALL[\"City\"].tolist()))\n",
        "\n",
        "stop_words = stopwords.words(\"english\")\n",
        "\n",
        "indexes = list(ALL.columns)\n",
        "\n",
        "companies = list(set(ALL[\"Company\"].tolist()))\n",
        "\n",
        "strip_words = stop_words+locations+indexes+companies\n",
        "\n",
        "for i in range(len(ALL)):\n",
        "\n",
        "  ALL[\"Description\"][i] = (\" \").join([word for word in ALL[\"Description\"][i] if not word in strip_words])"
      ],
      "execution_count": 300,
      "outputs": [
        {
          "output_type": "stream",
          "text": [
            "/usr/local/lib/python3.7/dist-packages/ipykernel_launcher.py:13: SettingWithCopyWarning: \n",
            "A value is trying to be set on a copy of a slice from a DataFrame\n",
            "\n",
            "See the caveats in the documentation: https://pandas.pydata.org/pandas-docs/stable/user_guide/indexing.html#returning-a-view-versus-a-copy\n",
            "  del sys.path[0]\n"
          ],
          "name": "stderr"
        }
      ]
    },
    {
      "cell_type": "markdown",
      "metadata": {
        "id": "q4YnA5WsCEEe"
      },
      "source": [
        "TF-IDF"
      ]
    },
    {
      "cell_type": "code",
      "metadata": {
        "id": "VcVXvIMMzdRq"
      },
      "source": [
        "def get_uniques(text):\n",
        "\n",
        "  tfIdfVectorizer=TfidfVectorizer(use_idf=True)\n",
        "\n",
        "  tfIdf = tfIdfVectorizer.fit_transform(text)\n",
        "\n",
        "  df = pd.DataFrame(tfIdf[0].T.todense(), index=tfIdfVectorizer.get_feature_names(), columns = [\"TF-IDF\"])\n",
        "\n",
        "  uniques = list(set(df[df[\"TF-IDF\"] == 0].index))\n",
        "\n",
        "  return uniques\n",
        "\n",
        "def stripper(text, strip):\n",
        "\n",
        "  token = text.apply(word_tokenize)\n",
        "\n",
        "  for j in range(len(text)):\n",
        "\n",
        "    token[j] = (\" \").join([word for word in token[j] if not word in strip])\n",
        "\n",
        "  return token\n",
        "\n",
        "def commoniser(text, passes = 5):\n",
        "\n",
        "  scanned  = stripper(text, get_uniques(text))\n",
        "\n",
        "  if passes == 0:\n",
        "\n",
        "    return scanned\n",
        "\n",
        "  else:\n",
        "\n",
        "    return commoniser(scanned, passes  = passes - 1)"
      ],
      "execution_count": 301,
      "outputs": []
    },
    {
      "cell_type": "markdown",
      "metadata": {
        "id": "HJ-wZAAQiork"
      },
      "source": [
        "# New Section"
      ]
    }
  ]
}